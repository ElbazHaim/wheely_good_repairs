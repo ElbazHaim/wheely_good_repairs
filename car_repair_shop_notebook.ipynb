{
    "metadata": {
        "kernelspec": {
            "name": "SQL",
            "display_name": "SQL",
            "language": "sql"
        },
        "language_info": {
            "name": "sql",
            "version": ""
        }
    },
    "nbformat_minor": 2,
    "nbformat": 4,
    "cells": [
        {
            "cell_type": "markdown",
            "source": [
                "# Wheely-Good Repairs\n",
                "### Database Declaration"
            ],
            "metadata": {
                "azdata_cell_guid": "f8ee28a4-dc54-4b32-b4fe-7c001555c4a2"
            },
            "attachments": {}
        },
        {
            "cell_type": "code",
            "source": [
                "DROP DATABASE car_repair_shop\n",
                "CREATE DATABASE car_repair_shop\n",
                "USE car_repair_shop"
            ],
            "metadata": {
                "azdata_cell_guid": "f427058a-f086-4745-8a59-e6aa51ce12a1",
                "language": "sql"
            },
            "outputs": [
                {
                    "output_type": "display_data",
                    "data": {
                        "text/html": "Commands completed successfully."
                    },
                    "metadata": {}
                },
                {
                    "output_type": "display_data",
                    "data": {
                        "text/html": "Total execution time: 00:00:00.598"
                    },
                    "metadata": {}
                }
            ],
            "execution_count": 1
        },
        {
            "cell_type": "markdown",
            "source": [
                "### Tables declaration"
            ],
            "metadata": {
                "azdata_cell_guid": "c804c4b0-1ae0-4849-85f5-9e34b89f838e"
            },
            "attachments": {}
        },
        {
            "cell_type": "code",
            "source": [
                "CREATE TABLE car_models(\n",
                "    model_id INT IDENTITY(1, 1) PRIMARY KEY,\n",
                "    model_name VARCHAR(30) NOT NULL,\n",
                "    year INT,\n",
                "    fuel_type VARCHAR(10),\n",
                "    seats INT,\n",
                "    country VARCHAR(20)\n",
                ");"
            ],
            "metadata": {
                "azdata_cell_guid": "108bfe2c-4f90-4ff5-ac92-323b3bc1cf20",
                "language": "sql"
            },
            "outputs": [],
            "execution_count": null
        },
        {
            "cell_type": "code",
            "source": [
                "CREATE TABLE customers(\n",
                "    customer_id INT IDENTITY(1, 1) PRIMARY KEY,\n",
                "    identification_number VARCHAR(8) NOT NULL,\n",
                "    birthday DATE,\n",
                "    join_date DATE,\n",
                ")"
            ],
            "metadata": {
                "azdata_cell_guid": "ce98eb51-1ffd-4a2d-9d4c-20a54bdd2e7c",
                "language": "sql"
            },
            "outputs": [],
            "execution_count": null
        },
        {
            "cell_type": "code",
            "source": [
                "CREATE TABLE cars (\n",
                "    car_id INT IDENTITY(1, 1) PRIMARY KEY,\n",
                "    model_id INT NOT NULL FOREIGN KEY (model_id) REFERENCES car_models (model_id),\n",
                "    customer_id INT NOT NULL FOREIGN KEY (customer_id) REFERENCES customers (customer_id),\n",
                "    license_plate VARCHAR(10) NOT NULL,\n",
                "    mileage INT,\n",
                "    purchase_date DATE\n",
                ");"
            ],
            "metadata": {
                "language": "sql",
                "azdata_cell_guid": "8f8f9037-16ad-4ae1-bd34-8073d69fd3c3"
            },
            "outputs": [],
            "execution_count": null
        },
        {
            "cell_type": "code",
            "source": [
                "CREATE TABLE repairs(\n",
                "    repair_id INT IDENTITY(1, 1) PRIMARY KEY,\n",
                "    car_id INT FOREIGN KEY REFERENCES cars(car_id),\n",
                "    customer_id INT FOREIGN KEY REFERENCES customers(customer_id),\n",
                "    repair_type INT FOREIGN KEY REFERENCES repair_types(repair_type_id),\n",
                "    repair_time DATETIME\n",
                ");"
            ],
            "metadata": {
                "azdata_cell_guid": "b105df63-91f8-4dd2-8695-e6763d286a2d",
                "language": "sql"
            },
            "outputs": [],
            "execution_count": null
        }
    ]
}