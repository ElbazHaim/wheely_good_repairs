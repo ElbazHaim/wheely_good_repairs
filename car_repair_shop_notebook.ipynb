{
    "metadata": {
        "kernelspec": {
            "name": "SQL",
            "display_name": "SQL",
            "language": "sql"
        },
        "language_info": {
            "name": "sql",
            "version": ""
        }
    },
    "nbformat_minor": 2,
    "nbformat": 4,
    "cells": [
        {
            "cell_type": "markdown",
            "source": [
                "# Wheely-Good Repairs\n",
                "\n",
                "#### Cleanup"
            ],
            "metadata": {
                "azdata_cell_guid": "f8ee28a4-dc54-4b32-b4fe-7c001555c4a2"
            },
            "attachments": {}
        },
        {
            "cell_type": "code",
            "source": [
                "-- =-=-=-= UNSAFE clean environment =-=-=-= -- \n",
                "use master\n",
                "alter database wheely_good_repairs set single_user \n",
                "                                   with rollback immediate\n",
                "alter database wheely_good_repairs set multi_user\n",
                "DROP DATABASE wheely_good_repairs;"
            ],
            "metadata": {
                "language": "sql",
                "azdata_cell_guid": "bd6da649-c4c2-46bc-a870-997ebb91a09c"
            },
            "outputs": [
                {
                    "output_type": "display_data",
                    "data": {
                        "text/html": "Commands completed successfully."
                    },
                    "metadata": {}
                },
                {
                    "output_type": "display_data",
                    "data": {
                        "text/html": "Total execution time: 00:00:00.118"
                    },
                    "metadata": {}
                }
            ],
            "execution_count": 123
        },
        {
            "cell_type": "markdown",
            "source": [
                "## Declarations\n",
                "\n",
                "### Database Declaration"
            ],
            "metadata": {
                "language": "sql",
                "azdata_cell_guid": "ca4116de-6856-463c-90e7-3ffcb6cd8d20"
            },
            "attachments": {}
        },
        {
            "cell_type": "code",
            "source": [
                "CREATE DATABASE wheely_good_repairs;"
            ],
            "metadata": {
                "language": "sql",
                "azdata_cell_guid": "456f853b-7152-40cc-a270-4f982b89d422"
            },
            "outputs": [
                {
                    "output_type": "display_data",
                    "data": {
                        "text/html": "Commands completed successfully."
                    },
                    "metadata": {}
                },
                {
                    "output_type": "display_data",
                    "data": {
                        "text/html": "Total execution time: 00:00:00.464"
                    },
                    "metadata": {}
                }
            ],
            "execution_count": 124
        },
        {
            "cell_type": "code",
            "source": [
                "USE wheely_good_repairs;"
            ],
            "metadata": {
                "azdata_cell_guid": "f427058a-f086-4745-8a59-e6aa51ce12a1",
                "language": "sql",
                "tags": []
            },
            "outputs": [
                {
                    "output_type": "display_data",
                    "data": {
                        "text/html": "Commands completed successfully."
                    },
                    "metadata": {}
                },
                {
                    "output_type": "display_data",
                    "data": {
                        "text/html": "Total execution time: 00:00:00.002"
                    },
                    "metadata": {}
                }
            ],
            "execution_count": 125
        },
        {
            "cell_type": "markdown",
            "source": [
                "## Tables Declaration\n",
                "### Entities"
            ],
            "metadata": {
                "azdata_cell_guid": "c804c4b0-1ae0-4849-85f5-9e34b89f838e"
            },
            "attachments": {}
        },
        {
            "cell_type": "code",
            "source": [
                "CREATE TABLE Customers (\n",
                "    CustomerID INT IDENTITY(1,1) PRIMARY KEY,\n",
                "    IdentificationNumber VARCHAR(8) NOT NULL,\n",
                "    Birthdate DATE,\n",
                "    InsuranceCompany VARCHAR(50) NOT NULL,\n",
                "    City VARCHAR(50) NOT NULL,\n",
                "    Address VARCHAR(50) NOT NULL,\n",
                "    PhoneNumber VARCHAR(10) NOT NULL,\n",
                "    Email VARCHAR(50),\n",
                "    LicenceNumber VARCHAR(20)\n",
                ");"
            ],
            "metadata": {
                "azdata_cell_guid": "f3fad744-26a6-4d02-90f6-568cdcb17589",
                "language": "sql"
            },
            "outputs": [
                {
                    "output_type": "display_data",
                    "data": {
                        "text/html": "Commands completed successfully."
                    },
                    "metadata": {}
                },
                {
                    "output_type": "display_data",
                    "data": {
                        "text/html": "Total execution time: 00:00:00.007"
                    },
                    "metadata": {}
                }
            ],
            "execution_count": 126
        },
        {
            "cell_type": "code",
            "source": [
                "CREATE TABLE Departments (\n",
                "    DepartmentID INT IDENTITY(1,1) PRIMARY KEY,\n",
                "    DepartmentName VARCHAR(100) UNIQUE,\n",
                "    DepartmentHead INT,\n",
                "    YearlyBudget DECIMAL(15, 2) NOT NULL,\n",
                "    \n",
                "    CONSTRAINT YearlyBudget CHECK (YearlyBudget > 0)\n",
                ");"
            ],
            "metadata": {
                "azdata_cell_guid": "9d41280a-7f77-4307-928f-1d1a2a162579",
                "language": "sql"
            },
            "outputs": [
                {
                    "output_type": "display_data",
                    "data": {
                        "text/html": "Commands completed successfully."
                    },
                    "metadata": {}
                },
                {
                    "output_type": "display_data",
                    "data": {
                        "text/html": "Total execution time: 00:00:00.009"
                    },
                    "metadata": {}
                }
            ],
            "execution_count": 127
        },
        {
            "cell_type": "code",
            "source": [
                "CREATE TABLE Employees (\n",
                "    EmployeeNumber INT IDENTITY(1,1) PRIMARY KEY,\n",
                "    IdentificationNumber VARCHAR(8) NOT NULL,\n",
                "    BirthDate DATE NOT NULL,\n",
                "    HireDate DATE NOT NULL,\n",
                "    DepartmentID INT,\n",
                "    ReportsTo INT,\n",
                "    Email VARCHAR(100),\n",
                "    City VARCHAR(100) NOT NULL,\n",
                "    Address VARCHAR(200) NOT NULL,\n",
                "    Salary DECIMAL(10, 2) NOT NULL,\n",
                "    Education VARCHAR(100),\n",
                "    BankAccount VARCHAR(30) NOT NULL,\n",
                "\n",
                "    \n",
                "    FOREIGN KEY (ReportsTo) REFERENCES Employees(EmployeeNumber)\n",
                ");"
            ],
            "metadata": {
                "language": "sql",
                "azdata_cell_guid": "ff7bc3a8-1c6f-47ca-9d58-c44049b31baf"
            },
            "outputs": [
                {
                    "output_type": "display_data",
                    "data": {
                        "text/html": "Commands completed successfully."
                    },
                    "metadata": {}
                },
                {
                    "output_type": "display_data",
                    "data": {
                        "text/html": "Total execution time: 00:00:00.005"
                    },
                    "metadata": {}
                }
            ],
            "execution_count": 128
        },
        {
            "cell_type": "code",
            "source": [
                "ALTER TABLE Employees\n",
                "ADD CONSTRAINT FK_DepartmentID\n",
                "FOREIGN KEY (DepartmentID) REFERENCES Departments(DepartmentID);"
            ],
            "metadata": {
                "language": "sql",
                "azdata_cell_guid": "49d14a56-d41e-4809-bdf7-e551bdccdefd"
            },
            "outputs": [
                {
                    "output_type": "display_data",
                    "data": {
                        "text/html": "Commands completed successfully."
                    },
                    "metadata": {}
                },
                {
                    "output_type": "display_data",
                    "data": {
                        "text/html": "Total execution time: 00:00:00.003"
                    },
                    "metadata": {}
                }
            ],
            "execution_count": 129
        },
        {
            "cell_type": "code",
            "source": [
                "ALTER TABLE Departments\n",
                "ADD CONSTRAINT FK_DepartmentHead\n",
                "FOREIGN KEY (DepartmentHead) REFERENCES Employees(EmployeeNumber);"
            ],
            "metadata": {
                "language": "sql",
                "azdata_cell_guid": "0990f8e2-fec1-44d8-8c1c-ce2856c1c822"
            },
            "outputs": [
                {
                    "output_type": "display_data",
                    "data": {
                        "text/html": "Commands completed successfully."
                    },
                    "metadata": {}
                },
                {
                    "output_type": "display_data",
                    "data": {
                        "text/html": "Total execution time: 00:00:00.004"
                    },
                    "metadata": {}
                }
            ],
            "execution_count": 130
        },
        {
            "cell_type": "code",
            "source": [
                "CREATE TABLE CustomerServices (\n",
                "    EmployeeNumber INT PRIMARY KEY,\n",
                "    CustomerSatisfactionScore DECIMAL(3,2),\n",
                "    EnglishSpeaker BIT,\n",
                "\n",
                "    FOREIGN KEY (EmployeeNumber) REFERENCES Employees(EmployeeNumber),\n",
                "    \n",
                "    CONSTRAINT CHK_SatisfactionScore CHECK (CustomerSatisfactionScore >= 0 AND CustomerSatisfactionScore <= 5)\n",
                ");"
            ],
            "metadata": {
                "language": "sql",
                "azdata_cell_guid": "e84695e4-fa5d-43d8-9308-a75d3277b6c1"
            },
            "outputs": [
                {
                    "output_type": "display_data",
                    "data": {
                        "text/html": "Commands completed successfully."
                    },
                    "metadata": {}
                },
                {
                    "output_type": "display_data",
                    "data": {
                        "text/html": "Total execution time: 00:00:00.004"
                    },
                    "metadata": {}
                }
            ],
            "execution_count": 131
        },
        {
            "cell_type": "code",
            "source": [
                "CREATE TABLE Technicians (\n",
                "    EmployeeNumber INT PRIMARY KEY,\n",
                "    Specialty VARCHAR(100),\n",
                "    CertificationID VARCHAR(20),\n",
                "    \n",
                "    FOREIGN KEY (EmployeeNumber) REFERENCES Employees(EmployeeNumber)\n",
                ");"
            ],
            "metadata": {
                "language": "sql",
                "azdata_cell_guid": "f839a22e-0816-42a2-88d5-7268b1a88bc3"
            },
            "outputs": [
                {
                    "output_type": "display_data",
                    "data": {
                        "text/html": "Commands completed successfully."
                    },
                    "metadata": {}
                },
                {
                    "output_type": "display_data",
                    "data": {
                        "text/html": "Total execution time: 00:00:00.008"
                    },
                    "metadata": {}
                }
            ],
            "execution_count": 132
        },
        {
            "cell_type": "code",
            "source": [
                "CREATE TABLE Parts (\n",
                "    PartID INT IDENTITY(1,1) PRIMARY KEY,\n",
                "    PartName VARCHAR(30),\n",
                "    Cost DECIMAL(10, 2),\n",
                "    Size VARCHAR(20),\n",
                "    Manufacturer VARCHAR(100)\n",
                ");"
            ],
            "metadata": {
                "language": "sql",
                "azdata_cell_guid": "c96b9f48-dde0-4406-bd56-0c4faaae22c9"
            },
            "outputs": [
                {
                    "output_type": "display_data",
                    "data": {
                        "text/html": "Commands completed successfully."
                    },
                    "metadata": {}
                },
                {
                    "output_type": "display_data",
                    "data": {
                        "text/html": "Total execution time: 00:00:00.007"
                    },
                    "metadata": {}
                }
            ],
            "execution_count": 133
        },
        {
            "cell_type": "code",
            "source": [
                "CREATE TABLE Models (\n",
                "    Code VARCHAR(20) PRIMARY KEY,\n",
                "    Manufacturer VARCHAR(50),\n",
                "    Type VARCHAR(10),\n",
                "    FuelType VARCHAR(50),\n",
                "    Gear VARCHAR(10),\n",
                "    Year DATE\n",
                ");"
            ],
            "metadata": {
                "language": "sql",
                "azdata_cell_guid": "799522f0-24de-449d-bdec-760b7bcd45a0"
            },
            "outputs": [
                {
                    "output_type": "display_data",
                    "data": {
                        "text/html": "Commands completed successfully."
                    },
                    "metadata": {}
                },
                {
                    "output_type": "display_data",
                    "data": {
                        "text/html": "Total execution time: 00:00:00.008"
                    },
                    "metadata": {}
                }
            ],
            "execution_count": 134
        },
        {
            "cell_type": "code",
            "source": [
                "CREATE TABLE Vehicles (\n",
                "    LicensePlate VARCHAR(20) PRIMARY KEY,\n",
                "    ModelCode VARCHAR(20),\n",
                "    Owner INT,\n",
                "    Mileage INT,\n",
                "    Accidents INT,\n",
                "    InsurancePolicy VARCHAR(100),\n",
                "    Color VARCHAR(50),\n",
                "    \n",
                "    FOREIGN KEY (ModelCode) REFERENCES Models(Code),\n",
                "    FOREIGN KEY (Owner) REFERENCES Customers(CustomerID)\n",
                ");"
            ],
            "metadata": {
                "language": "sql",
                "azdata_cell_guid": "857aa5c0-92eb-4946-a087-e0572f458b7f"
            },
            "outputs": [
                {
                    "output_type": "display_data",
                    "data": {
                        "text/html": "Commands completed successfully."
                    },
                    "metadata": {}
                },
                {
                    "output_type": "display_data",
                    "data": {
                        "text/html": "Total execution time: 00:00:00.010"
                    },
                    "metadata": {}
                }
            ],
            "execution_count": 135
        },
        {
            "cell_type": "code",
            "source": [
                "CREATE TABLE Suppliers (\n",
                "    SupplierID INT IDENTITY(1,1) PRIMARY KEY,\n",
                "    CompanyNumber VARCHAR(20) UNIQUE,\n",
                "    CompanyName VARCHAR(50),\n",
                "    PhoneNumber VARCHAR(10),\n",
                "    ContactName VARCHAR(50),\n",
                "    Address VARCHAR(50),\n",
                "    Email VARCHAR(50)\n",
                ");"
            ],
            "metadata": {
                "language": "sql",
                "azdata_cell_guid": "43cf3d98-cf57-4202-bcfd-3f96a224023f"
            },
            "outputs": [
                {
                    "output_type": "display_data",
                    "data": {
                        "text/html": "Commands completed successfully."
                    },
                    "metadata": {}
                },
                {
                    "output_type": "display_data",
                    "data": {
                        "text/html": "Total execution time: 00:00:00.009"
                    },
                    "metadata": {}
                }
            ],
            "execution_count": 136
        },
        {
            "cell_type": "markdown",
            "source": [
                "### Relations"
            ],
            "metadata": {
                "azdata_cell_guid": "65f85351-4292-4597-9a48-347836798007"
            },
            "attachments": {}
        },
        {
            "cell_type": "code",
            "source": [
                "CREATE TABLE Repairs (\n",
                "    RepairID INT IDENTITY(1,1) PRIMARY KEY,\n",
                "    TechnicianID INT,\n",
                "    LicensePlate VARCHAR(20),\n",
                "    PartID INT,\n",
                "    StartRepairTime DATETIME,\n",
                "    EndRepairTime DATETIME,\n",
                "    TotalCost DECIMAL(10, 2),\n",
                "    \n",
                "    FOREIGN KEY (TechnicianID) REFERENCES Technicians(EmployeeNumber),\n",
                "    FOREIGN KEY (LicensePlate) REFERENCES Vehicles(LicensePlate),\n",
                "    FOREIGN KEY (PartID) REFERENCES Parts(PartID)\n",
                ");"
            ],
            "metadata": {
                "azdata_cell_guid": "c99ab740-1f53-4108-bd41-86b4d79e99dd",
                "language": "sql",
                "tags": []
            },
            "outputs": [
                {
                    "output_type": "display_data",
                    "data": {
                        "text/html": "Commands completed successfully."
                    },
                    "metadata": {}
                },
                {
                    "output_type": "display_data",
                    "data": {
                        "text/html": "Total execution time: 00:00:00.011"
                    },
                    "metadata": {}
                }
            ],
            "execution_count": 137
        },
        {
            "cell_type": "code",
            "source": [
                "CREATE TABLE Orders (\n",
                "    OrderID INT IDENTITY(1,1) PRIMARY KEY,\n",
                "    SupplierID INT,\n",
                "    PartID INT,\n",
                "    OrderDate DATETIME,\n",
                "    ReceivedDate DATETIME,\n",
                "    Quantity INT,\n",
                "    PricePerUnit DECIMAL(10, 2),\n",
                "    TotalPrice DECIMAL(10, 2),\n",
                "    ReceiptNumber VARCHAR(50),\n",
                "\n",
                "    FOREIGN KEY (SupplierID) REFERENCES Suppliers(SupplierID),\n",
                "    FOREIGN KEY (PartID) REFERENCES Parts(PartID),\n",
                "    \n",
                "    CONSTRAINT CHK_Quantity CHECK (Quantity > 0),\n",
                "    CONSTRAINT CHK_PricePerUnit CHECK (PricePerUnit > 0),\n",
                "    CONSTRAINT CHK_TotalPrice CHECK (TotalPrice > 0),\n",
                "    CONSTRAINT CHK_ReceiptNumber CHECK (ReceiptNumber IS NOT NULL)\n",
                ");"
            ],
            "metadata": {
                "language": "sql",
                "azdata_cell_guid": "5be19241-9012-44de-a2ff-cf2526ec540e"
            },
            "outputs": [
                {
                    "output_type": "display_data",
                    "data": {
                        "text/html": "Commands completed successfully."
                    },
                    "metadata": {}
                },
                {
                    "output_type": "display_data",
                    "data": {
                        "text/html": "Total execution time: 00:00:00.011"
                    },
                    "metadata": {}
                }
            ],
            "execution_count": 138
        }
    ]
}