{
    "metadata": {
        "kernelspec": {
            "name": "SQL",
            "display_name": "SQL",
            "language": "sql"
        },
        "language_info": {
            "name": "sql",
            "version": ""
        }
    },
    "nbformat_minor": 2,
    "nbformat": 4,
    "cells": [
        {
            "cell_type": "markdown",
            "source": [
                "# Wheely-Good Repairs\n",
                "\n",
                "#### Cleanup"
            ],
            "metadata": {
                "azdata_cell_guid": "f8ee28a4-dc54-4b32-b4fe-7c001555c4a2"
            },
            "attachments": {}
        },
        {
            "cell_type": "code",
            "source": [
                "-- =-=-=-= UNSAFE clean environment =-=-=-= -- \n",
                "use master\n",
                "alter database wheely_good_repairs set single_user \n",
                "                                   with rollback immediate\n",
                "alter database wheely_good_repairs set multi_user\n",
                "DROP DATABASE wheely_good_repairs;"
            ],
            "metadata": {
                "language": "sql",
                "azdata_cell_guid": "bd6da649-c4c2-46bc-a870-997ebb91a09c"
            },
            "outputs": [
                {
                    "output_type": "display_data",
                    "data": {
                        "text/html": "Commands completed successfully."
                    },
                    "metadata": {}
                },
                {
                    "output_type": "display_data",
                    "data": {
                        "text/html": "Total execution time: 00:00:00.111"
                    },
                    "metadata": {}
                }
            ],
            "execution_count": 13
        },
        {
            "cell_type": "markdown",
            "source": [
                "## Declarations\n",
                "\n",
                "### Database Declaration"
            ],
            "metadata": {
                "language": "sql",
                "azdata_cell_guid": "ca4116de-6856-463c-90e7-3ffcb6cd8d20"
            },
            "attachments": {}
        },
        {
            "cell_type": "code",
            "source": [
                "CREATE DATABASE wheely_good_repairs;"
            ],
            "metadata": {
                "language": "sql",
                "azdata_cell_guid": "456f853b-7152-40cc-a270-4f982b89d422"
            },
            "outputs": [
                {
                    "output_type": "display_data",
                    "data": {
                        "text/html": "Commands completed successfully."
                    },
                    "metadata": {}
                },
                {
                    "output_type": "display_data",
                    "data": {
                        "text/html": "Total execution time: 00:00:00.475"
                    },
                    "metadata": {}
                }
            ],
            "execution_count": 14
        },
        {
            "cell_type": "code",
            "source": [
                "USE wheely_good_repairs;"
            ],
            "metadata": {
                "azdata_cell_guid": "f427058a-f086-4745-8a59-e6aa51ce12a1",
                "language": "sql",
                "tags": []
            },
            "outputs": [
                {
                    "output_type": "display_data",
                    "data": {
                        "text/html": "Commands completed successfully."
                    },
                    "metadata": {}
                },
                {
                    "output_type": "display_data",
                    "data": {
                        "text/html": "Total execution time: 00:00:00.003"
                    },
                    "metadata": {}
                }
            ],
            "execution_count": 15
        },
        {
            "cell_type": "markdown",
            "source": [
                "### Tables declaration"
            ],
            "metadata": {
                "azdata_cell_guid": "c804c4b0-1ae0-4849-85f5-9e34b89f838e"
            },
            "attachments": {}
        },
        {
            "cell_type": "code",
            "source": [
                ""
            ],
            "metadata": {
                "azdata_cell_guid": "f3fad744-26a6-4d02-90f6-568cdcb17589",
                "language": "sql"
            },
            "outputs": [],
            "execution_count": null
        }
    ]
}