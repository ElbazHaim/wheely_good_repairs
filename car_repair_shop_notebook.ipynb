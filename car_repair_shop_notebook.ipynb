{
    "metadata": {
        "kernelspec": {
            "name": "SQL",
            "display_name": "SQL",
            "language": "sql"
        },
        "language_info": {
            "name": "sql",
            "version": ""
        }
    },
    "nbformat_minor": 2,
    "nbformat": 4,
    "cells": [
        {
            "cell_type": "markdown",
            "source": [
                "# Wheely-Good Repairs\n",
                "### Database Declaration"
            ],
            "metadata": {
                "azdata_cell_guid": "f8ee28a4-dc54-4b32-b4fe-7c001555c4a2"
            },
            "attachments": {}
        },
        {
            "cell_type": "code",
            "source": [
                "DROP DATABASE car_repair_shop\n",
                "CREATE DATABASE car_repair_shop\n",
                "USE car_repair_shop"
            ],
            "metadata": {
                "azdata_cell_guid": "f427058a-f086-4745-8a59-e6aa51ce12a1",
                "language": "sql",
                "tags": []
            },
            "outputs": [
                {
                    "output_type": "error",
                    "evalue": "Msg 3702, Level 16, State 3, Line 1\nCannot drop database \"car_repair_shop\" because it is currently in use.",
                    "ename": "",
                    "traceback": []
                },
                {
                    "output_type": "error",
                    "evalue": "Msg 1801, Level 16, State 3, Line 2\nDatabase 'car_repair_shop' already exists. Choose a different database name.",
                    "ename": "",
                    "traceback": []
                },
                {
                    "output_type": "display_data",
                    "data": {
                        "text/html": "Total execution time: 00:00:00.012"
                    },
                    "metadata": {}
                }
            ],
            "execution_count": 2
        },
        {
            "cell_type": "markdown",
            "source": [
                "### Tables declaration"
            ],
            "metadata": {
                "azdata_cell_guid": "c804c4b0-1ae0-4849-85f5-9e34b89f838e"
            },
            "attachments": {}
        },
        {
            "cell_type": "code",
            "source": [
                "CREATE TABLE car_models(\n",
                "    model_id INT IDENTITY(1, 1) PRIMARY KEY,\n",
                "    manufacturer VARCHAR(30) NOT NULL,\n",
                "    model_name VARCHAR(30) NOT NULL,\n",
                "    year INT,\n",
                "    fuel_type VARCHAR(10),\n",
                "    seats INT,\n",
                "    country VARCHAR(20)\n",
                ");"
            ],
            "metadata": {
                "azdata_cell_guid": "108bfe2c-4f90-4ff5-ac92-323b3bc1cf20",
                "language": "sql"
            },
            "outputs": [
                {
                    "output_type": "display_data",
                    "data": {
                        "text/html": "Commands completed successfully."
                    },
                    "metadata": {}
                },
                {
                    "output_type": "display_data",
                    "data": {
                        "text/html": "Total execution time: 00:00:00.014"
                    },
                    "metadata": {}
                }
            ],
            "execution_count": 3
        },
        {
            "cell_type": "code",
            "source": [
                "CREATE TABLE people(\n",
                "    person_id INT IDENTITY(1, 1) PRIMARY KEY,\n",
                "    name VARCHAR(30) NOT NULL,\n",
                "    identification_number VARCHAR(8) NOT NULL,\n",
                "    email VARCHAR(30),\n",
                "    phone VARCHAR(20),\n",
                "    birthdate DATE -- constraint older than 18\n",
                ");"
            ],
            "metadata": {
                "azdata_cell_guid": "1cb3060b-b499-481a-9b81-f69f4feedabe",
                "language": "sql"
            },
            "outputs": [
                {
                    "output_type": "display_data",
                    "data": {
                        "text/html": "Commands completed successfully."
                    },
                    "metadata": {}
                },
                {
                    "output_type": "display_data",
                    "data": {
                        "text/html": "Total execution time: 00:00:00.009"
                    },
                    "metadata": {}
                }
            ],
            "execution_count": 4
        },
        {
            "cell_type": "code",
            "source": [
                "CREATE TABLE customers(\n",
                "    person_id INT PRIMARY KEY REFERENCES people(person_id),\n",
                "    join_date DATE NOT NULL DEFAULT GETDATE(),\n",
                "    loyalty_program BIT,\n",
                "    lifetime_spending DECIMAL(10, 2)\n",
                ");"
            ],
            "metadata": {
                "azdata_cell_guid": "ce98eb51-1ffd-4a2d-9d4c-20a54bdd2e7c",
                "language": "sql"
            },
            "outputs": [
                {
                    "output_type": "display_data",
                    "data": {
                        "text/html": "Commands completed successfully."
                    },
                    "metadata": {}
                },
                {
                    "output_type": "display_data",
                    "data": {
                        "text/html": "Total execution time: 00:00:00.011"
                    },
                    "metadata": {}
                }
            ],
            "execution_count": 5
        },
        {
            "cell_type": "code",
            "source": [
                "CREATE TABLE employees(\n",
                "    person_id INT NOT NULL PRIMARY KEY REFERENCES people(person_id),\n",
                "    department VARCHAR(20) NOT NULL,\n",
                "    job_title VARCHAR(20) NOT NULL,\n",
                "    specialization VARCHAR(20),\n",
                "    start_date DATE NOT NULL DEFAULT GETDATE(),\n",
                "    end_date DATE -- constraint later than start date\n",
                ");"
            ],
            "metadata": {
                "azdata_cell_guid": "b23cabeb-4864-4827-9b1a-32e870b18837",
                "language": "sql"
            },
            "outputs": [
                {
                    "output_type": "display_data",
                    "data": {
                        "text/html": "Commands completed successfully."
                    },
                    "metadata": {}
                },
                {
                    "output_type": "display_data",
                    "data": {
                        "text/html": "Total execution time: 00:00:00.013"
                    },
                    "metadata": {}
                }
            ],
            "execution_count": 6
        },
        {
            "cell_type": "code",
            "source": [
                "CREATE TABLE cars(\n",
                "    car_id INT IDENTITY(1, 1) PRIMARY KEY,\n",
                "    model_id INT NOT NULL REFERENCES car_models (model_id),\n",
                "    customer_id INT NOT NULL REFERENCES customers (person_id),\n",
                "    license_plate VARCHAR(10) NOT NULL,\n",
                "    mileage INT,\n",
                "    purchase_date DATE\n",
                ");"
            ],
            "metadata": {
                "language": "sql",
                "azdata_cell_guid": "8f8f9037-16ad-4ae1-bd34-8073d69fd3c3"
            },
            "outputs": [
                {
                    "output_type": "display_data",
                    "data": {
                        "text/html": "Commands completed successfully."
                    },
                    "metadata": {}
                },
                {
                    "output_type": "display_data",
                    "data": {
                        "text/html": "Total execution time: 00:00:00.011"
                    },
                    "metadata": {}
                }
            ],
            "execution_count": 8
        },
        {
            "cell_type": "code",
            "source": [
                "CREATE TABLE repairs(\n",
                "    repair_id INT IDENTITY(1, 1) PRIMARY KEY,\n",
                "    car_id INT REFERENCES cars(car_id),\n",
                "    repair_type VARCHAR(20),\n",
                "    technician INT REFERENCES employees(person_id),\n",
                "    repair_start DATETIME DEFAULT GETDATE(),\n",
                "    repair_end DATETIME, -- constraint after repair start\n",
                "    cost DECIMAL(10,2)\n",
                ");"
            ],
            "metadata": {
                "azdata_cell_guid": "b105df63-91f8-4dd2-8695-e6763d286a2d",
                "language": "sql"
            },
            "outputs": [
                {
                    "output_type": "display_data",
                    "data": {
                        "text/html": "Commands completed successfully."
                    },
                    "metadata": {}
                },
                {
                    "output_type": "display_data",
                    "data": {
                        "text/html": "Total execution time: 00:00:00.013"
                    },
                    "metadata": {}
                }
            ],
            "execution_count": 9
        },
        {
            "cell_type": "code",
            "source": [
                "CREATE TABLE transactions(\n",
                "    transaction_id INT IDENTITY(1, 1) PRIMARY KEY,\n",
                "    customer_id INT NOT NULL REFERENCES customers(person_id),\n",
                "    car_id INT REFERENCES cars(car_id),\n",
                "    -- service_id INT NOT NULL REFERENCES services(service_id),\n",
                "    technician_id INT NOT NULL REFERENCES employees(person_id),\n",
                "    transaction_date DATETIME NOT NULL,\n",
                "    total_amount DECIMAL(10, 2) NOT NULL,\n",
                "    payment_method VARCHAR(50) NOT NULL,\n",
                "    transaction_time DATETIME NOT NULL DEFAULT GETDATE(),\n",
                "    notes VARCHAR(500)\n",
                ");"
            ],
            "metadata": {
                "azdata_cell_guid": "0cf2b405-7e48-46c7-88b2-803a2629b0da",
                "language": "sql"
            },
            "outputs": [
                {
                    "output_type": "display_data",
                    "data": {
                        "text/html": "Commands completed successfully."
                    },
                    "metadata": {}
                },
                {
                    "output_type": "display_data",
                    "data": {
                        "text/html": "Total execution time: 00:00:00.013"
                    },
                    "metadata": {}
                }
            ],
            "execution_count": 12
        }
    ]
}