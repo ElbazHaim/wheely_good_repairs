{
    "metadata": {
        "kernelspec": {
            "name": "SQL",
            "display_name": "SQL",
            "language": "sql"
        },
        "language_info": {
            "name": "sql",
            "version": ""
        }
    },
    "nbformat_minor": 2,
    "nbformat": 4,
    "cells": [
        {
            "cell_type": "code",
            "source": [
                "Create Database Car_Repair_Shop"
            ],
            "metadata": {
                "azdata_cell_guid": "f427058a-f086-4745-8a59-e6aa51ce12a1",
                "language": "sql"
            },
            "outputs": [
                {
                    "output_type": "display_data",
                    "data": {
                        "text/html": "Commands completed successfully."
                    },
                    "metadata": {}
                },
                {
                    "output_type": "display_data",
                    "data": {
                        "text/html": "Total execution time: 00:00:00.475"
                    },
                    "metadata": {}
                }
            ],
            "execution_count": 1
        },
        {
            "cell_type": "code",
            "source": [
                "Use Car_Repair_Shop"
            ],
            "metadata": {
                "language": "sql",
                "azdata_cell_guid": "ef654a4b-1545-4793-a16f-d12f257ac7e5"
            },
            "outputs": [
                {
                    "output_type": "display_data",
                    "data": {
                        "text/html": "Commands completed successfully."
                    },
                    "metadata": {}
                },
                {
                    "output_type": "display_data",
                    "data": {
                        "text/html": "Total execution time: 00:00:00.004"
                    },
                    "metadata": {}
                }
            ],
            "execution_count": 3
        },
        {
            "cell_type": "code",
            "source": [
                "CREATE TABLE car_models(\n",
                "\n",
                ")"
            ],
            "metadata": {
                "azdata_cell_guid": "108bfe2c-4f90-4ff5-ac92-323b3bc1cf20",
                "language": "sql"
            },
            "outputs": [],
            "execution_count": null
        },
        {
            "cell_type": "code",
            "source": [
                "CREATE TABLE cars(\n",
                "\n",
                ")"
            ],
            "metadata": {
                "language": "sql",
                "azdata_cell_guid": "8f8f9037-16ad-4ae1-bd34-8073d69fd3c3"
            },
            "outputs": [],
            "execution_count": null
        },
        {
            "cell_type": "code",
            "source": [
                ""
            ],
            "metadata": {
                "azdata_cell_guid": "ce98eb51-1ffd-4a2d-9d4c-20a54bdd2e7c",
                "language": "sql"
            },
            "outputs": [],
            "execution_count": null
        },
        {
            "cell_type": "code",
            "source": [
                "CREATE TABLE repairs(\n",
                "    repair_id INT IDENTITY(1,1) PRIMARY KEY,\n",
                "    car_id INT FOREIGN KEY REFERENCES ,\n",
                "    customer_id FOREIGN KEY REFERENCES ,\n",
                "    repair_type INT FOREIGN KEY REFERENCES ,\n",
                "    repair_time\n",
                ")"
            ],
            "metadata": {
                "azdata_cell_guid": "b105df63-91f8-4dd2-8695-e6763d286a2d",
                "language": "sql"
            },
            "outputs": [],
            "execution_count": null
        }
    ]
}